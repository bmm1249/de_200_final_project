{
 "cells": [
  {
   "cell_type": "code",
   "execution_count": 1,
   "metadata": {},
   "outputs": [],
   "source": [
    "import matplotlib.pyplot as plt\n",
    "import numpy as np\n",
    "import pandas as pd\n",
    "from matplotlib import colors\n",
    "from matplotlib.ticker import PercentFormatter"
   ]
  },
  {
   "cell_type": "markdown",
   "metadata": {},
   "source": [
    "Introduction:\n",
    "In this first block of code, we create dictionaries mapping team ids to teams, teams to their games and teams to their seasons. This data format will allow for easy retrieval when we perform data analysis later"
   ]
  },
  {
   "cell_type": "code",
   "execution_count": 3,
   "metadata": {},
   "outputs": [],
   "source": [
    "import csv\n",
    "\n",
    "id_to_team = {}\n",
    "with open('teams.csv', newline='') as csvfile1:\n",
    "    team_info_reader = csv.reader(csvfile1, delimiter=',')\n",
    "    for row in team_info_reader:\n",
    "        if row[1] == 'TEAM_ID':\n",
    "            continue\n",
    "            \n",
    "        id_to_team[row[1]] = '{}{}'.format(row[7], row[5])\n",
    "        \n",
    "#print(id_to_team)\n",
    "\n",
    "team_to_games = {}\n",
    "team_list_game = []\n",
    "with open('games.csv', newline='') as csvfile2:\n",
    "    game_reader = csv.reader(csvfile2, delimiter=',')\n",
    "    for row in game_reader:\n",
    "        if row[3] == 'HOME_TEAM_ID':\n",
    "            continue\n",
    "        team_name_home = id_to_team[row[3]]\n",
    "        team_name_away = id_to_team[row[4]]\n",
    "        if team_name_home in team_list_game:\n",
    "            team_to_games[team_name_home].append(row)\n",
    "        else:\n",
    "            team_to_games[team_name_home] = [row]\n",
    "            team_list_game.append(team_name_home)\n",
    "        if team_name_away in team_list_game:\n",
    "            team_to_games[team_name_away].append(row)\n",
    "        else:\n",
    "            team_to_games[team_name_away] = [row]\n",
    "            team_list_game.append(team_name_away)\n",
    "        \n",
    "firstpair = {k: team_to_games[k] for k in list(team_to_games)[:1]}\n",
    "# print(firstpair)\n",
    "\n",
    "\n",
    "team_to_years = {}\n",
    "team_list = []\n",
    "with open('Team_Records.csv', newline='') as csvfile3:\n",
    "    team_reader = csv.reader(csvfile3, delimiter=',')\n",
    "    for row in team_reader:\n",
    "        team_name = ''.join(char for char in row[2] if char.isalnum())\n",
    "        if team_name == 'Team':\n",
    "            continue\n",
    "        if team_name in team_list:\n",
    "            team_to_years[team_name].append(row)\n",
    "        else:\n",
    "            team_to_years[team_name] = [row]\n",
    "            team_list.append(team_name)\n",
    "            \n",
    "# print(team_to_years)"
   ]
  },
  {
   "cell_type": "code",
   "execution_count": 7,
   "metadata": {},
   "outputs": [],
   "source": [
    "## can make master list of all years if we want\n",
    "## games_scores is a dictionary mapping team names to all of their recorded games\n",
    "## each value is a list of [season, game_date, score_difference, win?(0 or 1), blowout_win?, close_win?, blowout_loss?, close_loss?]\n",
    "games_scores = {}\n",
    "for key in team_to_games:\n",
    "    cur_team_games = team_to_games[key]\n",
    "    new_team_games = []\n",
    "    for g in cur_team_games:\n",
    "        home_score = 0\n",
    "        away_score = 0\n",
    "        try:\n",
    "            home_score = int(g[7])\n",
    "        except:\n",
    "            try:\n",
    "                home_score = int(g[7][:-2])\n",
    "            except:\n",
    "\n",
    "                continue\n",
    "        try:\n",
    "            away_score = int(g[14])\n",
    "        except:\n",
    "            try:\n",
    "                away_score = int(g[14][:-2])\n",
    "            except:\n",
    "                continue\n",
    "        ## home team\n",
    "        if id_to_team[g[3]] == key:\n",
    "            diff = home_score - away_score\n",
    "            blowout_win = '0'\n",
    "            if diff >= 20:\n",
    "                blowout_win = '1'\n",
    "            close_win = '0'\n",
    "            if diff <= 5 and diff > 0:\n",
    "                close_win = '1'\n",
    "            blowout_loss = '0'\n",
    "            if diff <= -20:\n",
    "                blowout_loss = '1'\n",
    "            close_loss = '0'\n",
    "            if diff >= -5 and diff < 0:\n",
    "                close_loss = '1'\n",
    "                \n",
    "            new_team_games.append([g[5], g[0], str(diff), g[20], blowout_win, close_win, blowout_loss, close_loss])\n",
    "        ## away team\n",
    "        else:\n",
    "            win = '1'\n",
    "            if g[20] == '1':\n",
    "                win = '0'\n",
    "            new_team_games.append([g[5], g[0], str(diff), win, blowout_win, close_win, blowout_loss, close_loss])\n",
    "    new_games_sorted = sorted(new_team_games, key=lambda x: x[0])\n",
    "    games_scores[key] = new_games_sorted\n",
    "    \n",
    "# print(games_scores)"
   ]
  },
  {
   "cell_type": "code",
   "execution_count": 5,
   "metadata": {},
   "outputs": [],
   "source": [
    "#print(team_to_years['MinnesotaTimberwolves'])\n",
    "## can make master list of all teams records if we want\n",
    "## year_stats is a dictionary mapping team names to all of their recorded seasons\n",
    "## each value is a list of [season, #wins, #losses, win_percentage, playoffs, SRS]\n",
    "## SRS represents points above average per game in a season (performance metric, 0 is baseline)\n",
    "year_stats = {}\n",
    "for key in team_to_years:\n",
    "    cur_team_stats = []\n",
    "    for year in team_to_years[key]:\n",
    "        cur_year = [year[0], year[3], year[4], year[5], year[14], year[7]]\n",
    "        cur_team_stats.append(cur_year)\n",
    "    new_years_sorted = sorted(cur_team_stats, key=lambda x: x[0])\n",
    "    year_stats[key] = new_years_sorted\n",
    "\n",
    "#print(year_stats)"
   ]
  },
  {
   "cell_type": "code",
   "execution_count": 8,
   "metadata": {},
   "outputs": [],
   "source": [
    "## sample code to get a range of games by date and season\n",
    "timberwolves_games = games_scores['MinnesotaTimberwolves']\n",
    "for game in timberwolves_games:\n",
    "    if game[0] == '2018' and game[1] >= '2018-10-17' and game[1] <= '2018-12-28':\n",
    "        # print(game)\n",
    "        pass"
   ]
  },
  {
   "cell_type": "code",
   "execution_count": 21,
   "metadata": {},
   "outputs": [],
   "source": [
    "## winning and losing streaks for all teams\n",
    "\n",
    "games_streaks = {}\n",
    "for key in games_scores:\n",
    "    win_streaks = []\n",
    "    loss_streaks = []\n",
    "    all_streaks = []\n",
    "    win_count = 0\n",
    "    cur_year = games_scores[key][0][0]\n",
    "    loss_count = 0\n",
    "    prev_game = games_scores[key][0]\n",
    "    if prev_game[3] == 1:\n",
    "        win_count += 1\n",
    "    else:\n",
    "        loss_count += 1\n",
    "    for g in games_scores[key]:\n",
    "        if g == games_scores[key][0]:\n",
    "            continue\n",
    "        if prev_game[3] == '1' and g[3] == '1' and g[0] == cur_year and prev_game[0] == cur_year:\n",
    "            win_count += 1\n",
    "        elif prev_game[3] == '0' and g[3] == '0' and g[0] == cur_year and prev_game[0] == cur_year:\n",
    "            loss_count += 1\n",
    "        elif prev_game[3] == '1' and g[3] == '0' and g[0] == cur_year and prev_game[0] == cur_year:\n",
    "            win_streaks.append(win_count)\n",
    "            all_streaks.append(win_count)\n",
    "            win_count = 0\n",
    "            loss_count += 1\n",
    "        elif prev_game[3] == '0' and g[3] == '1' and g[0] == cur_year and prev_game[0] == cur_year:\n",
    "            loss_streaks.append(loss_count)\n",
    "            all_streaks.append(0 - loss_count)\n",
    "            loss_count = 0\n",
    "            win_count += 1\n",
    "        elif g[0] != cur_year:\n",
    "            cur_year = g[0]\n",
    "            if win_count > 0:\n",
    "                win_streaks.append(win_count)\n",
    "                all_streaks.append(win_count)\n",
    "                win_count = 0\n",
    "            else:\n",
    "                loss_streaks.append(loss_count)\n",
    "                all_streaks.append(0 - loss_count)\n",
    "                loss_count = 0\n",
    "            if g[3] == '1':\n",
    "                win_count += 1\n",
    "            else:\n",
    "                loss_count += 1\n",
    "        elif prev_game[0] != cur_year:\n",
    "            print(\"hello\")\n",
    "            if g[3] == '1':\n",
    "                win_count += 1\n",
    "            else:\n",
    "                loss_count += 1\n",
    "        else:\n",
    "            pass\n",
    "        prev_game = g\n",
    "    games_streaks[key] = all_streaks\n",
    "    \n",
    "# print(win_streaks)\n",
    "#print(loss_streaks)\n",
    "# print(all_streaks)\n",
    "#print(games_streaks)\n",
    "\n",
    "## cases\n",
    "#start of win streak - end of loss streak\n",
    "#middle of win streak\n",
    "#end of win streak - end of loss streak (either next game loss or new year)\n",
    "#middle of loss streak        "
   ]
  },
  {
   "cell_type": "code",
   "execution_count": 66,
   "metadata": {},
   "outputs": [
    {
     "name": "stderr",
     "output_type": "stream",
     "text": [
      "<ipython-input-66-c70c5e0f13c7>:47: UserWarning: Matplotlib is currently using module://ipykernel.pylab.backend_inline, which is a non-GUI backend, so cannot show the figure.\n",
      "  fig.show()\n"
     ]
    },
    {
     "data": {
      "image/png": "[encoded data removed]",
      "text/plain": [
       "<Figure size 720x360 with 1 Axes>"
      ]
     },
     "metadata": {
      "needs_background": "light"
     },
     "output_type": "display_data"
    }
   ],
   "source": [
    "## Question 1: Defending champions performance in ensuing year\n",
    "next_seasons = []\n",
    "for key in year_stats:\n",
    "    b = False\n",
    "    for year in year_stats[key]:\n",
    "        if int(year[0][:4]) < 1970:\n",
    "            continue\n",
    "        if b == True:\n",
    "            next_seasons.append(year)\n",
    "            b = False\n",
    "        if year[4] == 'Won Finals':\n",
    "            b = True\n",
    "\n",
    "next_seasons_sorted = sorted(next_seasons, key=lambda x: x[0])\n",
    "\n",
    "next_seasons_performances = {}\n",
    "temp = []\n",
    "for item in next_seasons_sorted:\n",
    "    performance = item[4]\n",
    "    if performance == '':\n",
    "        performance = 'Missed Playoffs'\n",
    "    if performance == 'Lost W. Div. Finals' or performance == 'Lost E. Div. Finals':\n",
    "        continue\n",
    "    if performance == 'Lost E. Div. Semis':\n",
    "        continue\n",
    "    if performance == 'Lost E. Conf. Finals' or performance == 'Lost W. Conf. Finals':\n",
    "        performance = 'Lost Conf. Finals'\n",
    "    if performance == 'Lost E. Conf. Semis' or performance == 'Lost W. Conf. Semis':\n",
    "        performance = 'Lost Conf. Semis'\n",
    "    if performance == 'Lost E. Conf. 1st Rnd.' or performance == 'Lost W. Conf. 1st Rnd.':\n",
    "        performance = 'Lost Conf. 1st Rnd.'\n",
    "    if performance in temp:\n",
    "        next_seasons_performances[performance] += 1\n",
    "    else:\n",
    "        temp.append(performance)\n",
    "        next_seasons_performances[performance] = 1\n",
    "\n",
    "\n",
    "next_seasons_performances = {k: v for k, v in sorted(next_seasons_performances.items(), key=lambda item: item[1], reverse=True)}\n",
    "\n",
    "\n",
    "fig, ax = plt.subplots(figsize=(10,5))\n",
    "bar = plt.bar(next_seasons_performances.keys(), next_seasons_performances.values(), width=0.5, color='g')\n",
    "ax.set_xlabel('Outcomes of ensuing season')\n",
    "ax.set_ylabel('Number of seasons')\n",
    "ax.set_title('Outcomes of ensuing seasons after a championship')\n",
    "fig.show()"
   ]
  },
  {
   "cell_type": "code",
   "execution_count": 35,
   "metadata": {},
   "outputs": [
    {
     "name": "stdout",
     "output_type": "stream",
     "text": [
      "27 0.0\n",
      "26 1.0\n",
      "25 0.5\n",
      "24 1.0\n",
      "23 1.0\n",
      "22 0.6666666666666666\n",
      "21 1.0\n",
      "20 0.75\n",
      "19 0.5714285714285714\n",
      "18 0.875\n",
      "17 0.5714285714285714\n",
      "16 0.8235294117647058\n",
      "15 0.85\n",
      "14 0.7407407407407407\n",
      "13 0.6585365853658537\n",
      "12 0.7321428571428571\n",
      "11 0.6511627906976745\n",
      "10 0.7543859649122807\n",
      "9 0.7169811320754716\n",
      "8 0.7035398230088495\n",
      "7 0.6295264623955432\n",
      "6 0.6232638888888888\n",
      "5 0.5742771684945165\n",
      "4 0.5734705546026301\n",
      "3 0.5721295387634936\n",
      "2 0.5302688638334779\n",
      "1 0.49852992044275335\n",
      "0 1.0\n",
      "-1 0.5052523699718166\n",
      "-2 0.4873122734334542\n",
      "-3 0.432996632996633\n",
      "-4 0.42814726840855105\n",
      "-5 0.37279335410176534\n",
      "-6 0.40728476821192056\n",
      "-7 0.32122905027932963\n",
      "-8 0.35802469135802467\n",
      "-9 0.27564102564102566\n",
      "-10 0.35398230088495575\n",
      "-11 0.2328767123287671\n",
      "-12 0.17857142857142858\n",
      "-13 0.3695652173913043\n",
      "-14 0.1724137931034483\n",
      "-15 0.25\n",
      "-16 0.2777777777777778\n",
      "-17 0.07692307692307693\n",
      "-18 0.3333333333333333\n",
      "-19 0.375\n",
      "-20 0.0\n",
      "-21 0.0\n",
      "-22 0.4\n",
      "-23 0.3333333333333333\n",
      "-24 0.0\n",
      "-25 0.0\n",
      "-26 1.0\n"
     ]
    },
    {
     "data": {
      "image/png": "[encoded data removed]",
      "text/plain": [
       "<Figure size 432x288 with 1 Axes>"
      ]
     },
     "metadata": {
      "needs_background": "light"
     },
     "output_type": "display_data"
    }
   ],
   "source": [
    "## Question 2: Probability of winning next game based on current streak\n",
    "\n",
    "streaks_records = {}\n",
    "streaks = []\n",
    "for key in games_streaks:\n",
    "    for s in games_streaks[key]:\n",
    "        if s > 0:\n",
    "            if s in streaks:\n",
    "                streaks_records[s][1] += 1\n",
    "            else:\n",
    "                streaks.append(s)\n",
    "                streaks_records[s] = [0,1]\n",
    "            for i in range(1,s):\n",
    "                if i in streaks:\n",
    "                    streaks_records[i][0] += 1\n",
    "                else:\n",
    "                    streaks.append(i)\n",
    "                    streaks_records[i] = [1,0]\n",
    "        else:\n",
    "            if s in streaks:\n",
    "                streaks_records[s][0] += 1\n",
    "            else:\n",
    "                streaks.append(s)\n",
    "                streaks_records[s] = [1,0]\n",
    "            for i in range(1,-s):\n",
    "                i = i * -1\n",
    "                if i in streaks:\n",
    "                    streaks_records[i][1] += 1\n",
    "                else:\n",
    "                    streaks.append(i)\n",
    "                    streaks_records[i] = [0,1]\n",
    "\n",
    "streaks_records = {k: v for k, v in sorted(streaks_records.items(), key=lambda item: item[0], reverse=True)}\n",
    "for key in streaks_records:\n",
    "    # print(key, streaks_records[key])\n",
    "    pass\n",
    "\n",
    "streaks_odds = {}\n",
    "for key in streaks_records:\n",
    "    streaks_odds[key] = float(streaks_records[key][0]) / (streaks_records[key][1] + streaks_records[key][0])\n",
    "    \n",
    "keys = []\n",
    "prob = []\n",
    "for key in streaks_odds:\n",
    "    # print(key, streaks_odds[key])\n",
    "    keys.append(key)\n",
    "    prob.append(streaks_odds[key])\n",
    "del keys[27]\n",
    "del prob[27]\n",
    "fig = plt.figure()\n",
    "ax = fig.add_axes([0,0,1,1])\n",
    "ax.bar(keys,prob)\n",
    "ax.set_xlabel('Win/Loss Streak')\n",
    "ax.set_ylabel('Probability of Winning the Next Game')\n",
    "ax.set_title('Probability of Winning Next Game Based on Streak')\n",
    "plt.show()"
   ]
  },
  {
   "cell_type": "code",
   "execution_count": 36,
   "metadata": {},
   "outputs": [
    {
     "name": "stdout",
     "output_type": "stream",
     "text": [
      "[[2854, 2129], [3779, 3601], [994, 1418], [3062, 3385]]\n"
     ]
    }
   ],
   "source": [
    "## Questions 3-6 prep\n",
    "data36 = [[0,0],[0,0],[0,0],[0,0]] ## blowout win, close win, blowout loss, close loss\n",
    "\n",
    "for key in games_scores:\n",
    "    b0 = False\n",
    "    b1 = False\n",
    "    b2 = False\n",
    "    b3 = False\n",
    "    for game in games_scores[key]:\n",
    "        if b0:\n",
    "            if game[3] == '1':\n",
    "                data36[0][0] += 1\n",
    "            else:\n",
    "                data36[0][1] += 1\n",
    "            b0 = False\n",
    "        if b1:\n",
    "            if game[3] == '1':\n",
    "                data36[1][0] += 1\n",
    "            else:\n",
    "                data36[1][1] += 1\n",
    "            b1 = False\n",
    "        if b2:\n",
    "            if game[3] == '1':\n",
    "                data36[2][0] += 1\n",
    "            else:\n",
    "                data36[2][1] += 1\n",
    "            b2 = False\n",
    "        if b3:\n",
    "            if game[3] == '1':\n",
    "                data36[3][0] += 1\n",
    "            else:\n",
    "                data36[3][1] += 1\n",
    "            b3 = False\n",
    "            \n",
    "        ## blowout win\n",
    "        if game[4] == '1':\n",
    "            b0 = True\n",
    "        ## close win\n",
    "        elif game[5] == '1':\n",
    "            b1 = True\n",
    "        ## blowout loss\n",
    "        elif game[6] == '1':\n",
    "            b2 = True\n",
    "        ## close loss\n",
    "        elif game[7] == '1':\n",
    "            b3 = True \n",
    "        else:\n",
    "            pass\n",
    "\n",
    "print(data36)"
   ]
  },
  {
   "cell_type": "code",
   "execution_count": 37,
   "metadata": {},
   "outputs": [
    {
     "name": "stdout",
     "output_type": "stream",
     "text": [
      "Afte a blowout win, teams have 2854 wins and 2129 losses with a winning percentage of 0.5727473409592615\n"
     ]
    }
   ],
   "source": [
    "## Question 3\n",
    "num_wins0 = data36[0][0]\n",
    "num_loss0 = data36[0][1]\n",
    "pct0 = float(num_wins0) / (num_loss0 + num_wins0)\n",
    "print(\"Afte a blowout win, teams have \" + str(num_wins0) + \" wins and \" + str(num_loss0) + \" losses with a winning percentage of \" + str(pct0))"
   ]
  },
  {
   "cell_type": "code",
   "execution_count": 38,
   "metadata": {},
   "outputs": [
    {
     "name": "stdout",
     "output_type": "stream",
     "text": [
      "Afte a close win, teams have 3779 wins and 3601 losses with a winning percentage of 0.5120596205962059\n"
     ]
    }
   ],
   "source": [
    "## Question 4\n",
    "num_wins1 = data36[1][0]\n",
    "num_loss1 = data36[1][1]\n",
    "pct1 = float(num_wins1) / (num_loss1 + num_wins1)\n",
    "print(\"Afte a close win, teams have \" + str(num_wins1) + \" wins and \" + str(num_loss1) + \" losses with a winning percentage of \" + str(pct1))"
   ]
  },
  {
   "cell_type": "code",
   "execution_count": 39,
   "metadata": {},
   "outputs": [
    {
     "name": "stdout",
     "output_type": "stream",
     "text": [
      "Afte a blowout loss, teams have 994 wins and 1418 losses with a winning percentage of 0.412106135986733\n"
     ]
    }
   ],
   "source": [
    "## Question 5\n",
    "num_wins2 = data36[2][0]\n",
    "num_loss2 = data36[2][1]\n",
    "pct2 = float(num_wins2) / (num_loss2 + num_wins2)\n",
    "print(\"Afte a blowout loss, teams have \" + str(num_wins2) + \" wins and \" + str(num_loss2) + \" losses with a winning percentage of \" + str(pct2))"
   ]
  },
  {
   "cell_type": "code",
   "execution_count": 40,
   "metadata": {},
   "outputs": [
    {
     "name": "stdout",
     "output_type": "stream",
     "text": [
      "Afte a close loss, teams have 3062 wins and 3385 losses with a winning percentage of 0.42156573116691287\n"
     ]
    }
   ],
   "source": [
    "## Question 6\n",
    "num_wins3 = data36[3][0]\n",
    "num_loss3 = data36[3][1]\n",
    "pct3 = float(num_wins0) / (num_loss3 + num_loss3)\n",
    "print(\"Afte a close loss, teams have \" + str(num_wins3) + \" wins and \" + str(num_loss3) + \" losses with a winning percentage of \" + str(pct3))"
   ]
  },
  {
   "cell_type": "code",
   "execution_count": 41,
   "metadata": {},
   "outputs": [
    {
     "name": "stderr",
     "output_type": "stream",
     "text": [
      "/var/folders/yh/0wx5sr8520bcl4c1grkslxww0000gn/T/ipykernel_29487/3053723686.py:47: UserWarning: Matplotlib is currently using module://matplotlib_inline.backend_inline, which is a non-GUI backend, so cannot show the figure.\n",
      "  fig.show()\n"
     ]
    },
    {
     "data": {
      "image/png": "[encoded data removed]",
      "text/plain": [
       "<Figure size 720x360 with 1 Axes>"
      ]
     },
     "metadata": {
      "needs_background": "light"
     },
     "output_type": "display_data"
    }
   ],
   "source": [
    "## Question 7: Making playoffs performance in ensuing year\n",
    "next_seasons = []\n",
    "for key in year_stats:\n",
    "    b = False\n",
    "    for year in year_stats[key]:\n",
    "        if int(year[0][:4]) < 1970:\n",
    "            continue\n",
    "        if b == True:\n",
    "            next_seasons.append(year)\n",
    "            b = False\n",
    "        if '1st Rnd.' in year[4]:\n",
    "            b = True\n",
    "\n",
    "next_seasons_sorted = sorted(next_seasons, key=lambda x: x[0])\n",
    "\n",
    "next_seasons_performances = {}\n",
    "temp = []\n",
    "for item in next_seasons_sorted:\n",
    "    performance = item[4]\n",
    "    if performance == '':\n",
    "        performance = 'Missed Playoffs'\n",
    "    if performance == 'Lost W. Div. Finals' or performance == 'Lost E. Div. Finals':\n",
    "        continue\n",
    "    if performance == 'Lost E. Div. Semis':\n",
    "        continue\n",
    "    if performance == 'Lost E. Conf. Finals' or performance == 'Lost W. Conf. Finals':\n",
    "        performance = 'Lost Conf. Finals'\n",
    "    if performance == 'Lost E. Conf. Semis' or performance == 'Lost W. Conf. Semis':\n",
    "        performance = 'Lost Conf. Semis'\n",
    "    if performance == 'Lost E. Conf. 1st Rnd.' or performance == 'Lost W. Conf. 1st Rnd.':\n",
    "        performance = 'Lost Conf. 1st Rnd.'\n",
    "    if performance in temp:\n",
    "        next_seasons_performances[performance] += 1\n",
    "    else:\n",
    "        temp.append(performance)\n",
    "        next_seasons_performances[performance] = 1\n",
    "\n",
    "\n",
    "next_seasons_performances = {k: v for k, v in sorted(next_seasons_performances.items(), key=lambda item: item[1], reverse=True)}\n",
    "\n",
    "\n",
    "fig, ax = plt.subplots(figsize=(10,5))\n",
    "bar = plt.bar(next_seasons_performances.keys(), next_seasons_performances.values(), width=0.5, color='g')\n",
    "ax.set_xlabel('Outcomes of ensuing season')\n",
    "ax.set_ylabel('Number of seasons')\n",
    "ax.set_title('Outcomes of ensuing seasons after making the playoffs')\n",
    "fig.show()"
   ]
  },
  {
   "cell_type": "code",
   "execution_count": 42,
   "metadata": {},
   "outputs": [
    {
     "name": "stderr",
     "output_type": "stream",
     "text": [
      "/var/folders/yh/0wx5sr8520bcl4c1grkslxww0000gn/T/ipykernel_29487/508278567.py:47: UserWarning: Matplotlib is currently using module://matplotlib_inline.backend_inline, which is a non-GUI backend, so cannot show the figure.\n",
      "  fig.show()\n"
     ]
    },
    {
     "data": {
      "image/png": "[encoded data removed]",
      "text/plain": [
       "<Figure size 720x360 with 1 Axes>"
      ]
     },
     "metadata": {
      "needs_background": "light"
     },
     "output_type": "display_data"
    }
   ],
   "source": [
    "## Question 8: Making conference semifinals performance in ensuing year\n",
    "next_seasons = []\n",
    "for key in year_stats:\n",
    "    b = False\n",
    "    for year in year_stats[key]:\n",
    "        if int(year[0][:4]) < 1970:\n",
    "            continue\n",
    "        if b == True:\n",
    "            next_seasons.append(year)\n",
    "            b = False\n",
    "        if 'Conf. Semis' in year[4]:\n",
    "            b = True\n",
    "\n",
    "next_seasons_sorted = sorted(next_seasons, key=lambda x: x[0])\n",
    "\n",
    "next_seasons_performances = {}\n",
    "temp = []\n",
    "for item in next_seasons_sorted:\n",
    "    performance = item[4]\n",
    "    if performance == '':\n",
    "        performance = 'Missed Playoffs'\n",
    "    if performance == 'Lost W. Div. Finals' or performance == 'Lost E. Div. Finals':\n",
    "        continue\n",
    "    if performance == 'Lost E. Div. Semis':\n",
    "        continue\n",
    "    if performance == 'Lost E. Conf. Finals' or performance == 'Lost W. Conf. Finals':\n",
    "        performance = 'Lost Conf. Finals'\n",
    "    if performance == 'Lost E. Conf. Semis' or performance == 'Lost W. Conf. Semis':\n",
    "        performance = 'Lost Conf. Semis'\n",
    "    if performance == 'Lost E. Conf. 1st Rnd.' or performance == 'Lost W. Conf. 1st Rnd.':\n",
    "        performance = 'Lost Conf. 1st Rnd.'\n",
    "    if performance in temp:\n",
    "        next_seasons_performances[performance] += 1\n",
    "    else:\n",
    "        temp.append(performance)\n",
    "        next_seasons_performances[performance] = 1\n",
    "\n",
    "\n",
    "next_seasons_performances = {k: v for k, v in sorted(next_seasons_performances.items(), key=lambda item: item[1], reverse=True)}\n",
    "\n",
    "\n",
    "fig, ax = plt.subplots(figsize=(10,5))\n",
    "bar = plt.bar(next_seasons_performances.keys(), next_seasons_performances.values(), width=0.5, color='g')\n",
    "ax.set_xlabel('Outcomes of ensuing season')\n",
    "ax.set_ylabel('Number of seasons')\n",
    "ax.set_title('Outcomes of ensuing seasons after making conference semifinals')\n",
    "fig.show()"
   ]
  },
  {
   "cell_type": "code",
   "execution_count": 43,
   "metadata": {},
   "outputs": [
    {
     "name": "stderr",
     "output_type": "stream",
     "text": [
      "/var/folders/yh/0wx5sr8520bcl4c1grkslxww0000gn/T/ipykernel_29487/2712900897.py:47: UserWarning: Matplotlib is currently using module://matplotlib_inline.backend_inline, which is a non-GUI backend, so cannot show the figure.\n",
      "  fig.show()\n"
     ]
    },
    {
     "data": {
      "image/png": "[encoded data removed]",
      "text/plain": [
       "<Figure size 720x360 with 1 Axes>"
      ]
     },
     "metadata": {
      "needs_background": "light"
     },
     "output_type": "display_data"
    }
   ],
   "source": [
    "## Question 9: Making conference finals performance in ensuing year\n",
    "next_seasons = []\n",
    "for key in year_stats:\n",
    "    b = False\n",
    "    for year in year_stats[key]:\n",
    "        if int(year[0][:4]) < 1970:\n",
    "            continue\n",
    "        if b == True:\n",
    "            next_seasons.append(year)\n",
    "            b = False\n",
    "        if 'Conf. Finals' in year[4]:\n",
    "            b = True\n",
    "\n",
    "next_seasons_sorted = sorted(next_seasons, key=lambda x: x[0])\n",
    "\n",
    "next_seasons_performances = {}\n",
    "temp = []\n",
    "for item in next_seasons_sorted:\n",
    "    performance = item[4]\n",
    "    if performance == '':\n",
    "        performance = 'Missed Playoffs'\n",
    "    if performance == 'Lost W. Div. Finals' or performance == 'Lost E. Div. Finals':\n",
    "        continue\n",
    "    if performance == 'Lost E. Div. Semis':\n",
    "        continue\n",
    "    if performance == 'Lost E. Conf. Finals' or performance == 'Lost W. Conf. Finals':\n",
    "        performance = 'Lost Conf. Finals'\n",
    "    if performance == 'Lost E. Conf. Semis' or performance == 'Lost W. Conf. Semis':\n",
    "        performance = 'Lost Conf. Semis'\n",
    "    if performance == 'Lost E. Conf. 1st Rnd.' or performance == 'Lost W. Conf. 1st Rnd.':\n",
    "        performance = 'Lost Conf. 1st Rnd.'\n",
    "    if performance in temp:\n",
    "        next_seasons_performances[performance] += 1\n",
    "    else:\n",
    "        temp.append(performance)\n",
    "        next_seasons_performances[performance] = 1\n",
    "\n",
    "\n",
    "next_seasons_performances = {k: v for k, v in sorted(next_seasons_performances.items(), key=lambda item: item[1], reverse=True)}\n",
    "\n",
    "\n",
    "fig, ax = plt.subplots(figsize=(10,5))\n",
    "bar = plt.bar(next_seasons_performances.keys(), next_seasons_performances.values(), width=0.5, color='g')\n",
    "ax.set_xlabel('Outcomes of ensuing season')\n",
    "ax.set_ylabel('Number of seasons')\n",
    "ax.set_title('Outcomes of ensuing seasons after making conference finals')\n",
    "fig.show()"
   ]
  },
  {
   "cell_type": "code",
   "execution_count": 44,
   "metadata": {},
   "outputs": [
    {
     "name": "stderr",
     "output_type": "stream",
     "text": [
      "/var/folders/yh/0wx5sr8520bcl4c1grkslxww0000gn/T/ipykernel_29487/3806197842.py:49: UserWarning: Matplotlib is currently using module://matplotlib_inline.backend_inline, which is a non-GUI backend, so cannot show the figure.\n",
      "  fig.show()\n"
     ]
    },
    {
     "data": {
      "image/png": "[encoded data removed]",
      "text/plain": [
       "<Figure size 720x360 with 1 Axes>"
      ]
     },
     "metadata": {
      "needs_background": "light"
     },
     "output_type": "display_data"
    }
   ],
   "source": [
    "## Question 10: Making finals performance in ensuing year\n",
    "next_seasons = []\n",
    "for key in year_stats:\n",
    "    b = False\n",
    "    for year in year_stats[key]:\n",
    "        if int(year[0][:4]) < 1970:\n",
    "            continue\n",
    "        if b == True:\n",
    "            next_seasons.append(year)\n",
    "            b = False\n",
    "        if year[4] == 'Won Finals' or year[4] == 'Lost Finals':\n",
    "            b = True\n",
    "\n",
    "next_seasons_sorted = sorted(next_seasons, key=lambda x: x[0])\n",
    "\n",
    "next_seasons_performances = {}\n",
    "temp = []\n",
    "for item in next_seasons_sorted:\n",
    "    performance = item[4]\n",
    "    if performance == '':\n",
    "        performance = 'Missed Playoffs'\n",
    "    if performance == 'Lost W. Div. Finals' or performance == 'Lost E. Div. Finals':\n",
    "        continue\n",
    "    if performance == 'Lost E. Div. Semis' or performance == 'Lost W. Div. Semis':\n",
    "        continue\n",
    "    if performance == 'Eliminated in E. Div. Rnd. Robin' or performance == 'Lost 1st Rnd.':\n",
    "        continue\n",
    "    if performance == 'Lost E. Conf. Finals' or performance == 'Lost W. Conf. Finals':\n",
    "        performance = 'Lost Conf. Finals'\n",
    "    if performance == 'Lost E. Conf. Semis' or performance == 'Lost W. Conf. Semis':\n",
    "        performance = 'Lost Conf. Semis'\n",
    "    if performance == 'Lost E. Conf. 1st Rnd.' or performance == 'Lost W. Conf. 1st Rnd.':\n",
    "        performance = 'Lost Conf. 1st Rnd.'\n",
    "    if performance in temp:\n",
    "        next_seasons_performances[performance] += 1\n",
    "    else:\n",
    "        temp.append(performance)\n",
    "        next_seasons_performances[performance] = 1\n",
    "\n",
    "\n",
    "next_seasons_performances = {k: v for k, v in sorted(next_seasons_performances.items(), key=lambda item: item[1], reverse=True)}\n",
    "\n",
    "\n",
    "fig, ax = plt.subplots(figsize=(10,5))\n",
    "bar = plt.bar(next_seasons_performances.keys(), next_seasons_performances.values(), width=0.5, color='g')\n",
    "ax.set_xlabel('Outcomes of ensuing season')\n",
    "ax.set_ylabel('Number of seasons')\n",
    "ax.set_title('Outcomes of ensuing seasons after making NBA finals')\n",
    "fig.show()"
   ]
  },
  {
   "cell_type": "code",
   "execution_count": 45,
   "metadata": {},
   "outputs": [
    {
     "name": "stderr",
     "output_type": "stream",
     "text": [
      "/var/folders/yh/0wx5sr8520bcl4c1grkslxww0000gn/T/ipykernel_29487/590566885.py:42: UserWarning: Matplotlib is currently using module://matplotlib_inline.backend_inline, which is a non-GUI backend, so cannot show the figure.\n",
      "  fig.show()\n"
     ]
    },
    {
     "data": {
      "image/png": "[encoded data removed]",
      "text/plain": [
       "<Figure size 720x360 with 1 Axes>"
      ]
     },
     "metadata": {
      "needs_background": "light"
     },
     "output_type": "display_data"
    }
   ],
   "source": [
    "## Question 11: Win/loss percentage effect on same season playoff performance\n",
    "\n",
    "temp = []\n",
    "this_seasons_performances = {}\n",
    "for key in year_stats:\n",
    "    for year in year_stats[key]:\n",
    "        if int(year[0][:4]) < 1970:\n",
    "            continue\n",
    "        performance = year[4]\n",
    "        if performance == '':\n",
    "            performance = 'Missed Playoffs'\n",
    "        if performance == 'Lost W. Div. Finals' or performance == 'Lost E. Div. Finals' or performance == 'Lost Semis':\n",
    "            continue\n",
    "        if performance == 'Lost E. Div. Semis' or performance == 'Lost W. Div. Semis' or performance == 'Lost W. Div. Tiebreaker':\n",
    "            continue\n",
    "        if performance == 'Eliminated in E. Div. Rnd. Robin' or performance == 'Lost 1st Rnd.':\n",
    "            continue\n",
    "        if performance == 'Lost E. Conf. Finals' or performance == 'Lost W. Conf. Finals':\n",
    "            performance = 'Lost Conf. Finals'\n",
    "        if performance == 'Lost E. Conf. Semis' or performance == 'Lost W. Conf. Semis':\n",
    "            performance = 'Lost Conf. Semis'\n",
    "        if performance == 'Lost E. Conf. 1st Rnd.' or performance == 'Lost W. Conf. 1st Rnd.':\n",
    "            performance = 'Lost Conf. 1st Rnd.'\n",
    "        #print(year[0], year[3], performance)\n",
    "        if performance in temp:\n",
    "            this_seasons_performances[performance].append(float(year[3]))\n",
    "        else:\n",
    "            temp.append(performance)\n",
    "            this_seasons_performances[performance] = [float(year[3])]\n",
    "\n",
    "for key in this_seasons_performances:\n",
    "    temp = this_seasons_performances[key]\n",
    "    this_seasons_performances[key] = float(sum(temp)) / float(len(temp))\n",
    "    \n",
    "this_seasons_performances2 = {k: v for k, v in sorted(this_seasons_performances.items(), key=lambda item: item[1], reverse=True)}\n",
    "    \n",
    "fig, ax = plt.subplots(figsize=(10,5))\n",
    "bar = plt.bar(this_seasons_performances2.keys(), this_seasons_performances2.values(), width=0.5, color='g')\n",
    "ax.set_xlabel('Outcomes of current season')\n",
    "ax.set_ylabel('Average winning percentage')\n",
    "ax.set_title('Outcomes of current seasons by winning percentage')\n",
    "fig.show()\n",
    "            \n"
   ]
  },
  {
   "cell_type": "code",
   "execution_count": 78,
   "metadata": {},
   "outputs": [
    {
     "name": "stderr",
     "output_type": "stream",
     "text": [
      "<ipython-input-78-4180acba1ce4>:46: UserWarning: Matplotlib is currently using module://ipykernel.pylab.backend_inline, which is a non-GUI backend, so cannot show the figure.\n",
      "  fig.show()\n"
     ]
    },
    {
     "data": {
      "image/png": "[encoded data removed]",
      "text/plain": [
       "<Figure size 720x360 with 1 Axes>"
      ]
     },
     "metadata": {
      "needs_background": "light"
     },
     "output_type": "display_data"
    }
   ],
   "source": [
    "## Question 12: SRS effect on same season playoff performance\n",
    "\n",
    "## Question 11: Win/loss percentage effect on same season playoff performance\n",
    "## 70-71 is good\n",
    "\n",
    "temp = []\n",
    "this_seasons_performances = {}\n",
    "for key in year_stats:\n",
    "    for year in year_stats[key]:\n",
    "        if int(year[0][:4]) < 1970:\n",
    "            continue\n",
    "        performance = year[4]\n",
    "        if performance == '':\n",
    "            performance = 'Missed Playoffs'\n",
    "        if performance == 'Lost W. Div. Finals' or performance == 'Lost E. Div. Finals' or performance == 'Lost Semis':\n",
    "            continue\n",
    "        if performance == 'Lost E. Div. Semis' or performance == 'Lost W. Div. Semis' or performance == 'Lost W. Div. Tiebreaker':\n",
    "            continue\n",
    "        if performance == 'Eliminated in E. Div. Rnd. Robin' or performance == 'Lost 1st Rnd.':\n",
    "            continue\n",
    "        if performance == 'Lost E. Conf. Finals' or performance == 'Lost W. Conf. Finals':\n",
    "            performance = 'Lost Conf. Finals'\n",
    "        if performance == 'Lost E. Conf. Semis' or performance == 'Lost W. Conf. Semis':\n",
    "            performance = 'Lost Conf. Semis'\n",
    "        if performance == 'Lost E. Conf. 1st Rnd.' or performance == 'Lost W. Conf. 1st Rnd.':\n",
    "            performance = 'Lost Conf. 1st Rnd.'\n",
    "        #print(year[0], year[5], performance)\n",
    "        if performance in temp:\n",
    "            this_seasons_performances[performance].append(float(year[5]))\n",
    "        else:\n",
    "            temp.append(performance)\n",
    "            this_seasons_performances[performance] = [float(year[5])]\n",
    "\n",
    "for key in this_seasons_performances:\n",
    "    temp = this_seasons_performances[key]\n",
    "    this_seasons_performances[key] = float(sum(temp)) / float(len(temp))\n",
    "    \n",
    "this_seasons_performances2 = {k: v for k, v in sorted(this_seasons_performances.items(), key=lambda item: item[1], reverse=True)}\n",
    "    \n",
    "fig, ax = plt.subplots(figsize=(10,5))\n",
    "bar = plt.bar(this_seasons_performances2.keys(), this_seasons_performances2.values(), width=0.5, color='g')\n",
    "plt.axhline(y=0, color='r', linestyle='-')\n",
    "ax.set_xlabel('Outcomes of current season')\n",
    "ax.set_ylabel('Average SRS')\n",
    "ax.set_title('Outcomes of current seasons by SRS')\n",
    "fig.show()"
   ]
  },
  {
   "cell_type": "code",
   "execution_count": null,
   "metadata": {},
   "outputs": [],
   "source": []
  }
 ],
 "metadata": {
  "kernelspec": {
   "display_name": "Python 3",
   "language": "python",
   "name": "python3"
  },
  "language_info": {
   "codemirror_mode": {
    "name": "ipython",
    "version": 3
   },
   "file_extension": ".py",
   "mimetype": "text/x-python",
   "name": "python",
   "nbconvert_exporter": "python",
   "pygments_lexer": "ipython3",
   "version": "3.8.3"
  }
 },
 "nbformat": 4,
 "nbformat_minor": 4
}
